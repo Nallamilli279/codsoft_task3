{
 "cells": [
  {
   "cell_type": "markdown",
   "id": "0eab2c93",
   "metadata": {},
   "source": [
    "# CUSTOMER CHURN PREDICTION"
   ]
  },
  {
   "cell_type": "markdown",
   "id": "d2eefc75",
   "metadata": {},
   "source": [
    "# Importing Libraries"
   ]
  },
  {
   "cell_type": "code",
   "execution_count": 1,
   "id": "1f87996e",
   "metadata": {},
   "outputs": [],
   "source": [
    "import pandas as pd\n",
    "import numpy as np\n",
    "from sklearn.model_selection import train_test_split\n",
    "from sklearn.preprocessing import StandardScaler, LabelEncoder\n",
    "from sklearn.metrics import accuracy_score, precision_score, recall_score, f1_score\n",
    "from sklearn.linear_model import LogisticRegression\n",
    "from sklearn.ensemble import RandomForestClassifier, GradientBoostingClassifier"
   ]
  },
  {
   "cell_type": "markdown",
   "id": "ef281265",
   "metadata": {},
   "source": [
    "# Data Preprocessing"
   ]
  },
  {
   "cell_type": "code",
   "execution_count": 2,
   "id": "2419392b",
   "metadata": {},
   "outputs": [],
   "source": [
    "# Load the dataset\n",
    "data = pd.read_csv('Churn_Modelling.csv')\n",
    "\n",
    "# Drop irrelevant columns\n",
    "data.drop(['RowNumber', 'CustomerId', 'Surname'], axis=1, inplace=True)\n",
    "\n",
    "# Encode categorical variables\n",
    "label_encoder = LabelEncoder()\n",
    "data['Geography'] = label_encoder.fit_transform(data['Geography'])\n",
    "data['Gender'] = label_encoder.fit_transform(data['Gender'])\n",
    "\n",
    "# Define features and target variable\n",
    "X = data.drop('Exited', axis=1)\n",
    "y = data['Exited']\n",
    "\n",
    "# Split the data into training and test sets\n",
    "X_train, X_test, y_train, y_test = train_test_split(X, y, test_size=0.2, random_state=42)\n",
    "\n",
    "# Standardize the features\n",
    "scaler = StandardScaler()\n",
    "X_train = scaler.fit_transform(X_train)\n",
    "X_test = scaler.transform(X_test)"
   ]
  },
  {
   "cell_type": "markdown",
   "id": "ab1f0fab",
   "metadata": {},
   "source": [
    "# Logistic Regression"
   ]
  },
  {
   "cell_type": "code",
   "execution_count": 3,
   "id": "ce976846",
   "metadata": {},
   "outputs": [],
   "source": [
    "# Train and evaluate Logistic Regression\n",
    "log_reg = LogisticRegression(random_state=42)\n",
    "log_reg.fit(X_train, y_train)\n",
    "y_pred_log_reg = log_reg.predict(X_test)"
   ]
  },
  {
   "cell_type": "markdown",
   "id": "c7b21d1f",
   "metadata": {},
   "source": [
    "# Random Forest"
   ]
  },
  {
   "cell_type": "code",
   "execution_count": 4,
   "id": "5afa3269",
   "metadata": {},
   "outputs": [],
   "source": [
    "# Train and evaluate Random Forest\n",
    "rf_clf = RandomForestClassifier(random_state=42)\n",
    "rf_clf.fit(X_train, y_train)\n",
    "y_pred_rf_clf = rf_clf.predict(X_test)"
   ]
  },
  {
   "cell_type": "markdown",
   "id": "3db720da",
   "metadata": {},
   "source": [
    "# Gradient Boosting"
   ]
  },
  {
   "cell_type": "code",
   "execution_count": 5,
   "id": "fead88cc",
   "metadata": {},
   "outputs": [],
   "source": [
    "# Train and evaluate Gradient Boosting\n",
    "gb_clf = GradientBoostingClassifier(random_state=42)\n",
    "gb_clf.fit(X_train, y_train)\n",
    "y_pred_gb_clf = gb_clf.predict(X_test)"
   ]
  },
  {
   "cell_type": "code",
   "execution_count": 6,
   "id": "77794205",
   "metadata": {},
   "outputs": [
    {
     "name": "stdout",
     "output_type": "stream",
     "text": [
      "Logistic Regression - Accuracy: 0.815, Precision: 0.5966386554621849, Recall: 0.1806615776081425, F1 Score: 0.27734375\n",
      "Random Forest - Accuracy: 0.8645, Precision: 0.7479674796747967, Recall: 0.4681933842239186, F1 Score: 0.5758998435054773\n",
      "Gradient Boosting - Accuracy: 0.8655, Precision: 0.7540983606557377, Recall: 0.4681933842239186, F1 Score: 0.5777080062794349\n"
     ]
    }
   ],
   "source": [
    "# Function to evaluate models\n",
    "def evaluate_model(y_test, y_pred):\n",
    "    accuracy = accuracy_score(y_test, y_pred)\n",
    "    precision = precision_score(y_test, y_pred)\n",
    "    recall = recall_score(y_test, y_pred)\n",
    "    f1 = f1_score(y_test, y_pred)\n",
    "    return accuracy, precision, recall, f1\n",
    "\n",
    "# Evaluate Logistic Regression\n",
    "acc_log_reg, prec_log_reg, rec_log_reg, f1_log_reg = evaluate_model(y_test, y_pred_log_reg)\n",
    "print(f'Logistic Regression - Accuracy: {acc_log_reg}, Precision: {prec_log_reg}, Recall: {rec_log_reg}, F1 Score: {f1_log_reg}')\n",
    "\n",
    "# Evaluate Random Forest\n",
    "acc_rf_clf, prec_rf_clf, rec_rf_clf, f1_rf_clf = evaluate_model(y_test, y_pred_rf_clf)\n",
    "print(f'Random Forest - Accuracy: {acc_rf_clf}, Precision: {prec_rf_clf}, Recall: {rec_rf_clf}, F1 Score: {f1_rf_clf}')\n",
    "\n",
    "# Evaluate Gradient Boosting\n",
    "acc_gb_clf, prec_gb_clf, rec_gb_clf, f1_gb_clf = evaluate_model(y_test, y_pred_gb_clf)\n",
    "print(f'Gradient Boosting - Accuracy: {acc_gb_clf}, Precision: {prec_gb_clf}, Recall: {rec_gb_clf}, F1 Score: {f1_gb_clf}')\n"
   ]
  },
  {
   "cell_type": "markdown",
   "id": "ae98e4cf",
   "metadata": {},
   "source": [
    "# Hyperparameter Tuning"
   ]
  },
  {
   "cell_type": "code",
   "execution_count": 7,
   "id": "ebc171bc",
   "metadata": {},
   "outputs": [
    {
     "name": "stdout",
     "output_type": "stream",
     "text": [
      "Fitting 3 folds for each of 108 candidates, totalling 324 fits\n",
      "Best parameters: {'max_depth': None, 'min_samples_leaf': 2, 'min_samples_split': 10, 'n_estimators': 200}\n",
      "Best Random Forest - Accuracy: 0.867, Precision: 0.7656903765690377, Recall: 0.46564885496183206, F1 Score: 0.579113924050633\n"
     ]
    }
   ],
   "source": [
    "from sklearn.model_selection import GridSearchCV\n",
    "\n",
    "# Define the parameter grid for the best model (e.g., Random Forest)\n",
    "param_grid = {\n",
    "    'n_estimators': [100, 200, 300],\n",
    "    'max_depth': [None, 10, 20, 30],\n",
    "    'min_samples_split': [2, 5, 10],\n",
    "    'min_samples_leaf': [1, 2, 4]\n",
    "}\n",
    "\n",
    "# Initialize GridSearchCV\n",
    "grid_search = GridSearchCV(estimator=rf_clf, param_grid=param_grid, cv=3, n_jobs=-1, verbose=2)\n",
    "\n",
    "# Fit the grid search to the data\n",
    "grid_search.fit(X_train, y_train)\n",
    "\n",
    "# Get the best parameters\n",
    "best_params = grid_search.best_params_\n",
    "print(f'Best parameters: {best_params}')\n",
    "\n",
    "# Evaluate the best model\n",
    "best_rf_clf = grid_search.best_estimator_\n",
    "y_pred_best_rf_clf = best_rf_clf.predict(X_test)\n",
    "acc_best_rf_clf, prec_best_rf_clf, rec_best_rf_clf, f1_best_rf_clf = evaluate_model(y_test, y_pred_best_rf_clf)\n",
    "print(f'Best Random Forest - Accuracy: {acc_best_rf_clf}, Precision: {prec_best_rf_clf}, Recall: {rec_best_rf_clf}, F1 Score: {f1_best_rf_clf}')\n"
   ]
  },
  {
   "cell_type": "code",
   "execution_count": null,
   "id": "559eebf0",
   "metadata": {},
   "outputs": [],
   "source": []
  }
 ],
 "metadata": {
  "kernelspec": {
   "display_name": "Python 3 (ipykernel)",
   "language": "python",
   "name": "python3"
  },
  "language_info": {
   "codemirror_mode": {
    "name": "ipython",
    "version": 3
   },
   "file_extension": ".py",
   "mimetype": "text/x-python",
   "name": "python",
   "nbconvert_exporter": "python",
   "pygments_lexer": "ipython3",
   "version": "3.11.3"
  }
 },
 "nbformat": 4,
 "nbformat_minor": 5
}
